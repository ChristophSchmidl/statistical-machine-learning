{
 "cells": [
  {
   "cell_type": "markdown",
   "metadata": {},
   "source": [
    "# Exercise 1 - Logistic Regression"
   ]
  },
  {
   "cell_type": "markdown",
   "metadata": {},
   "source": [
    "## Part 1 - The IRLS algorithm"
   ]
  },
  {
   "cell_type": "code",
   "execution_count": 11,
   "metadata": {},
   "outputs": [],
   "source": [
    "import numpy as np\n",
    "import sympy as sp"
   ]
  },
  {
   "cell_type": "code",
   "execution_count": 27,
   "metadata": {},
   "outputs": [
    {
     "name": "stdout",
     "output_type": "stream",
     "text": [
      "Starting the optimization process with x_0: 1\n",
      "Step 0: 1.6420926159343308\n",
      "Step 1: 1.5706752771612507\n",
      "Step 2: 1.5707963267954879\n",
      "Step 3: 1.5707963267948966\n",
      "Step 4: 1.5707963267948966\n"
     ]
    }
   ],
   "source": [
    "# Exercise 1.1.1\n",
    "\n",
    "## See also: https://docs.sympy.org/latest/tutorial/calculus.html\n",
    "\n",
    "def f(x):\n",
    "    return np.sin(x)\n",
    "\n",
    "def iterative_optimization(x):\n",
    "    \"\"\" Using Newton-Raphson iterative optimization scheme \"\"\"\n",
    "    return x + (np.cos(x)/np.sin(x))\n",
    "\n",
    "x_t = 1\n",
    "n_iterations = 5\n",
    "\n",
    "print(\"Starting the optimization process with x_0: {}\".format(x_t))\n",
    "\n",
    "for i in range(n_iterations):\n",
    "    x_t = iterative_optimization(x_t)\n",
    "    print(\"Step {}: {}\".format(i, x_t))\n",
    "    \n",
    "    \n",
    "\n",
    "\n",
    "\n",
    "    "
   ]
  }
 ],
 "metadata": {
  "kernelspec": {
   "display_name": "Python 3",
   "language": "python",
   "name": "python3"
  },
  "language_info": {
   "codemirror_mode": {
    "name": "ipython",
    "version": 3
   },
   "file_extension": ".py",
   "mimetype": "text/x-python",
   "name": "python",
   "nbconvert_exporter": "python",
   "pygments_lexer": "ipython3",
   "version": "3.7.0"
  }
 },
 "nbformat": 4,
 "nbformat_minor": 2
}
