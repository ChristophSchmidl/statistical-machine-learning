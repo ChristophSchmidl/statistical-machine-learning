{
 "cells": [
  {
   "cell_type": "markdown",
   "metadata": {},
   "source": [
    "# Statistical Machine Learning - Exam 2019\n",
    "\n",
    "* These are just the things I remember from the exam. We were not allowed to take the exam exercise sheet with us after the exam. The exercise descriptions are therefore incomplete.\n",
    "* Points in total: 70\n",
    "\n",
    "\n",
    "\n",
    "## Assignment 1 (18pt  - see exercises week 4)\n",
    "\n",
    "A factory produces products $X$. 80% is of quality $x = 1$ and the remainder of quality $x = 2$. There is a test $Z$, which can be a real number $z$ between 0 and 1. The conditional probability density of $z$, depending on the quality of $z$ is \n",
    "\n",
    "\\begin{align*}\n",
    "p(z | x = 1) &= \\alpha_1(1 - z)\\\\\n",
    "p(z | x = 2) &= \\alpha_2z\n",
    "\\end{align*}\n",
    "\n",
    "* Question 1.1 (4pts): Compute the normalization constants $\\alpha_1$ and $\\alpha_2$\n",
    "* Question 1.2 (4pts): Compute $p(x = 1 | z)$ and $p(x = 2 | z)$\n",
    "* Question 1.3 (4pts): Compute the optimal decision minimizing the expected loss $\\mathbb{E}(L)$. The loss matrix was denoted by $L_{kj}$ with $L_{11} = 0, L_{12} = 1, L_{21} = 2, L_{22} = 0$. (See Bishop page 41)\n",
    "* Question 1.4 (6pt, a and b): Compute the minimal expected loss $\\mathbb{E}(L)$. Also with the case where the test is performed where testing has cost $C = 0.1$.\n",
    "\n",
    "\n",
    "\n",
    "\n",
    "\n",
    "\n",
    "## Assignment 2 (18pt)\n",
    "\n",
    "* Question 2.1 (3pts): Verify that the (given) Poisson distribution represents a proper probability distribution. \n",
    "* Question 2.2 (4pts): Show that the log-likelihood of $\\lambda$ for this data set (data set X is given by a simple vector) is given by ...\n",
    "* Question 2.3 (3pts): From (2) show that the maximum likelihood estimate $\\lambda_{ML}$ is given by...\n",
    "* Question 2.4 (1pt): Calculate $\\lambda_{ML}$ for this data set\n",
    "* Question 2.5 (4pts): Show that with the Gamma prior and a data set X, the posterior distribution of $\\lambda$ takes the form $p(\\lambda | X) = Gam(\\lambda | a +K, b + N)$\n",
    "* Question 2.6 (3pts): Use the posterior distribution (11) together with (B.26-29) to obtain $\\lambda_{MAP}$ and the posterior expected value $\\mathbb{E}(\\lambda|X)$\n",
    "\n",
    "\n",
    "\n",
    "\n",
    "## Assignment 3 (16pt)\n",
    "\n",
    "* Question 3.1 (4pts): Show independence between $u$ and $v$ given $p(u,v,w) = p(u)p(v)p(w|u,v)$. You can assume that these are discrete random variables if that makes the calculations easier.\n",
    "* Question 3.2 (4pts): Give an expression for the mean $X_0$ and covariance $\\Sigma$ in p(x) in terms of model parameters. (The Gaussian distribution $p(u)p(v)p(w|u,v)$ was defined in terms of conditional distributions. Similar to question 3.2 in the exam from 2017)\n",
    "* Question 3.3 (8pts): Give an expression for $A$ and $L^{-1}$ in $p(w|x)$ in terms of the model parameters... marginal distribution $p(w) = \\mathcal{N}(w_0, \\sigma^2_w)$?\n",
    "\n",
    "\n",
    "\n",
    "## Assignment 4 (18pt)\n",
    "\n",
    "* Question 4.1 (6pts): $K(x,y) = (x^Ty)^2 + 4x^Ty + 1$. Show that this is a valid kernel. What are the dimensions of the kernel matrix?\n",
    "* Question 4.2 (4pts): Compute the mean $\\mu$ and covariance matrix $\\Sigma$ of the given distribution. (Gaussian processes?)\n",
    "* Question 4.3 (4pts): On observing $t_1 = 0, t_2 = 1$ the resulting probability distribution for the observation at $x = 0$ is again Gaussian. Compute mean and covariance for this distribution.\n",
    "* Question 4.4 (2pts): Does the maximum of the expected mean pass through the data points $(-1,0)$ and $(1,1)$?\n",
    "* Question 4.5 (2pts): What happens to the predictive mean of our GP regression result with Gaussian kernel as $x \\to \\pm \\infty$?"
   ]
  }
 ],
 "metadata": {
  "anaconda-cloud": {},
  "kernelspec": {
   "display_name": "Python [conda root]",
   "language": "python",
   "name": "conda-root-py"
  },
  "language_info": {
   "codemirror_mode": {
    "name": "ipython",
    "version": 3
   },
   "file_extension": ".py",
   "mimetype": "text/x-python",
   "name": "python",
   "nbconvert_exporter": "python",
   "pygments_lexer": "ipython3",
   "version": "3.5.2"
  }
 },
 "nbformat": 4,
 "nbformat_minor": 1
}
