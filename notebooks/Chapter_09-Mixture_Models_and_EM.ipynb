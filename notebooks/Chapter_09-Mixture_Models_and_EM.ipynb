{
 "cells": [
  {
   "cell_type": "markdown",
   "metadata": {},
   "source": [
    "# Chapter 9 - Mixture Models and EM\n",
    "\n",
    "## 9.1 - K-means Clustering\n",
    "\n",
    "### 9.1.1 - Image segmentation and compression\n",
    "\n",
    "## 9.2 - Mixtures of Gaussians\n",
    "\n",
    "### 9.2.1 - Maximum likelihood\n",
    "### 9.2.2 - EM for Gaussian mixtures\n",
    "\n",
    "## 9.3 - An Alternative View of EM\n",
    "\n",
    "### 9.3.1 - Gaussian mixtures revisited\n",
    "### 9.3.2 - Relation to K-means\n",
    "### 9.3.3 - Mixtures of Bernoulli distributions\n",
    "### 9.3.4 - EM for Bayesian linear regression\n",
    "\n",
    "## 9.4 - The EM Algorithm in General"
   ]
  },
  {
   "cell_type": "code",
   "execution_count": 1,
   "metadata": {
    "collapsed": true
   },
   "outputs": [],
   "source": [
    "# TODO: Explanations and code examples"
   ]
  }
 ],
 "metadata": {
  "kernelspec": {
   "display_name": "py35",
   "language": "python",
   "name": "py35"
  },
  "language_info": {
   "codemirror_mode": {
    "name": "ipython",
    "version": 3
   },
   "file_extension": ".py",
   "mimetype": "text/x-python",
   "name": "python",
   "nbconvert_exporter": "python",
   "pygments_lexer": "ipython3",
   "version": "3.5.4"
  }
 },
 "nbformat": 4,
 "nbformat_minor": 2
}
