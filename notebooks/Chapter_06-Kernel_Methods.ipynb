{
 "cells": [
  {
   "cell_type": "markdown",
   "metadata": {},
   "source": [
    "# Chapter 6 - Kernel Methods\n",
    "\n",
    "## 6.1 - Dual Representations\n",
    "## 6.2 - Constructing Kernels\n",
    "## 6.3 - Radial Basis Function Networks\n",
    "\n",
    "### 6.3.1 - Nadaraya-Watson model\n",
    "\n",
    "## 6.4 - Gaussian Processes\n",
    "\n",
    "### 6.4.1 - Linear regression revisited\n",
    "### 6.4.2 - Gaussian processes for regression\n",
    "### 6.4.3 - Learning the hyperparameters\n",
    "### 6.4.4 - Automatic relevance determination\n",
    "### 6.4.5 - Gaussian processes for classification\n",
    "### 6.4.6 - Laplace approximation\n",
    "### 6.4.7 - Connection to neural networks"
   ]
  },
  {
   "cell_type": "code",
   "execution_count": 1,
   "metadata": {
    "collapsed": true
   },
   "outputs": [],
   "source": [
    "# TODO: Explanations and code examples"
   ]
  }
 ],
 "metadata": {
  "kernelspec": {
   "display_name": "py35",
   "language": "python",
   "name": "py35"
  },
  "language_info": {
   "codemirror_mode": {
    "name": "ipython",
    "version": 3
   },
   "file_extension": ".py",
   "mimetype": "text/x-python",
   "name": "python",
   "nbconvert_exporter": "python",
   "pygments_lexer": "ipython3",
   "version": "3.5.4"
  }
 },
 "nbformat": 4,
 "nbformat_minor": 2
}
