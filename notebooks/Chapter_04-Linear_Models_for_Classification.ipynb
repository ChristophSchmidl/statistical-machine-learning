{
 "cells": [
  {
   "cell_type": "markdown",
   "metadata": {},
   "source": [
    "# Chapter 4 - Linear Models for Classification\n",
    "\n",
    "## 4.1 - Discriminant Functions\n",
    "\n",
    "### 4.1.1 - Two classes\n",
    "### 4.1.2 - Multiple classes\n",
    "### 4.1.3 - Least squares for classification\n",
    "### 4.1.4 - Fisher's linear discriminant\n",
    "### 4.1.5 - Relation to least squares\n",
    "### 4.1.6 - Fisher's dicriminant for multiple classes\n",
    "### 4.1.7 - The perceptron algorithm\n",
    "\n",
    "## 4.2 - Probabilistic Generative Models\n",
    "\n",
    "### 4.2.1 - Continuous inputs\n",
    "### 4.2.2 - Maximum likelihood solution\n",
    "### 4.2.3 - Discrete features\n",
    "### 4.2.4 - Exponential family\n",
    "\n",
    "## 4.3 - Probabilistic Discriminative Models\n",
    "\n",
    "### 4.3.1 - Fixed basis functions\n",
    "### 4.3.2 - Logistic regression\n",
    "### 4.3.3 - Iterative reweighted least squares\n",
    "### 4.3.4 - Multiclass logistic regression\n",
    "### 4.3.5 - Probit regression\n",
    "### 4.3.6 - Canonical link functions\n",
    "\n",
    "## 4.4 - The Laplace Approximation\n",
    "\n",
    "### 4.4.1 - Model comparison and BIC\n",
    "\n",
    "## 4.5 - Bayesian Logistic Regression\n",
    "\n",
    "### 4.5.1 - Laplace approximation\n",
    "### 4.5.2 - Predictive distribution"
   ]
  },
  {
   "cell_type": "code",
   "execution_count": 1,
   "metadata": {
    "collapsed": true
   },
   "outputs": [],
   "source": [
    "# TODO: Explanations and code examples"
   ]
  }
 ],
 "metadata": {
  "kernelspec": {
   "display_name": "py35",
   "language": "python",
   "name": "py35"
  },
  "language_info": {
   "codemirror_mode": {
    "name": "ipython",
    "version": 3
   },
   "file_extension": ".py",
   "mimetype": "text/x-python",
   "name": "python",
   "nbconvert_exporter": "python",
   "pygments_lexer": "ipython3",
   "version": "3.5.4"
  }
 },
 "nbformat": 4,
 "nbformat_minor": 2
}
