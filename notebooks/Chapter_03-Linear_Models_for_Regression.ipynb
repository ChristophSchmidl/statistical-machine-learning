{
 "cells": [
  {
   "cell_type": "markdown",
   "metadata": {},
   "source": [
    "# Chapter 3 - Linear Models for Regression\n",
    "\n",
    "## 3.1 - Linear Basis Function Models\n",
    "\n",
    "### 3.1.1 - Maximum likelihood and least squares\n",
    "### 3.1.2 - Geometry of least squares\n",
    "### 3.1.3 - Sequential learning\n",
    "### 3.1.4 - Regularized least squares\n",
    "### 3.1.5 - Multiple outputs\n",
    "\n",
    "## 3.2 - The Bias-Variance Decomposition\n",
    "## 3.3 - Bayesian Linear Regression\n",
    "\n",
    "### 3.3.1 - Parameter distribution\n",
    "### 3.3.2 - Predictive distribution\n",
    "### 3.3.3 - Equivalent kernel\n",
    "\n",
    "## 3.4 - Bayesian Model Comparison\n",
    "## 3.5 - The Evidence Approximation\n",
    "\n",
    "### 3.5.1 - Evaluation of the evidence function\n",
    "### 3.5.2 - Maximizing the evidence function\n",
    "### 3.5.3 - Effective number of parameters\n",
    "\n",
    "## 3.6 - Limitations of Fixed Basis Functions"
   ]
  },
  {
   "cell_type": "code",
   "execution_count": 1,
   "metadata": {
    "collapsed": true
   },
   "outputs": [],
   "source": [
    "# TODO: Explanations and code examples"
   ]
  }
 ],
 "metadata": {
  "kernelspec": {
   "display_name": "py35",
   "language": "python",
   "name": "py35"
  },
  "language_info": {
   "codemirror_mode": {
    "name": "ipython",
    "version": 3
   },
   "file_extension": ".py",
   "mimetype": "text/x-python",
   "name": "python",
   "nbconvert_exporter": "python",
   "pygments_lexer": "ipython3",
   "version": "3.5.4"
  }
 },
 "nbformat": 4,
 "nbformat_minor": 2
}
