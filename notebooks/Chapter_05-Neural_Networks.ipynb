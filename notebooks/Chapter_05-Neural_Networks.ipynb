{
 "cells": [
  {
   "cell_type": "markdown",
   "metadata": {},
   "source": [
    "# Chapter 5 - Neural Networks\n",
    "\n",
    "## 5.1 - Feed-forward Network Functions\n",
    "\n",
    "### 5.1.1 - Weight-space symmetries\n",
    "\n",
    "## 5.2 - Network Training\n",
    "\n",
    "### 5.2.1 - Parameter optimization\n",
    "### 5.2.2 - Local quadratic approximation\n",
    "### 5.2.3 - Use of gradient information\n",
    "### 5.2.4 - Gradient descent optimization\n",
    "\n",
    "## 5.3 - Error Backpropagation\n",
    "\n",
    "### 5.3.1 - Evaluation of error-function derivatives\n",
    "### 5.3.2 - A simple example\n",
    "### 5.3.3 - Efficiency of backpropagation\n",
    "### 5.3.4 - The Jacobian matrix\n",
    "\n",
    "## 5.4 - The Hessian Matrix\n",
    "\n",
    "### 5.4.1 - Diagonal approximation\n",
    "### 5.4.2 - Outer product approximation\n",
    "### 5.4.3 - Inverse Hessian\n",
    "### 5.4.4 - Finite differences\n",
    "### 5.4.5 - Exact evaluation of the Hessian\n",
    "### 5.4.6 - Fast multiplication by the Hessian\n",
    "\n",
    "## 5.5 - Regularization in Neural Networks\n",
    "\n",
    "### 5.5.1 - Consistent Gaussian priors\n",
    "### 5.5.2 - Early stopping\n",
    "### 5.5.3 - Invariances\n",
    "### 5.5.4 - Tangent propagation\n",
    "### 5.5.5 - Training with transformed data\n",
    "### 5.5.6 - Convolutional networks\n",
    "### 5.5.7 - Soft weight sharing\n",
    "\n",
    "## 5.6 - Mixture Density Networks\n",
    "## 5.7 - Bayesian Neural Networks\n",
    "\n",
    "### 5.7.1 - Posterior parameter distribution\n",
    "### 5.7.2 - Hyperparameter optimization\n",
    "### 5.7.3 - Bayesian neural networks for classification"
   ]
  },
  {
   "cell_type": "code",
   "execution_count": 1,
   "metadata": {
    "collapsed": true
   },
   "outputs": [],
   "source": [
    "# TODO: Explanations and code examples"
   ]
  }
 ],
 "metadata": {
  "kernelspec": {
   "display_name": "py35",
   "language": "python",
   "name": "py35"
  },
  "language_info": {
   "codemirror_mode": {
    "name": "ipython",
    "version": 3
   },
   "file_extension": ".py",
   "mimetype": "text/x-python",
   "name": "python",
   "nbconvert_exporter": "python",
   "pygments_lexer": "ipython3",
   "version": "3.5.4"
  }
 },
 "nbformat": 4,
 "nbformat_minor": 2
}
