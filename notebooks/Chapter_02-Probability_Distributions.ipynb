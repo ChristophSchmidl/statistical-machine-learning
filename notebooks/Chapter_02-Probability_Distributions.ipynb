{
 "cells": [
  {
   "cell_type": "markdown",
   "metadata": {},
   "source": [
    "# Chapter 2 - Probability Distributions\n",
    "\n",
    "## 2.1 - Binary Variables\n",
    "\n",
    "### 2.1.1 - The beta distribution\n",
    "\n",
    "## 2.2 - Multinominal Variables\n",
    "\n",
    "### 2.2.1 - The Dirichlet distribution\n",
    "\n",
    "## 2.3 - The Gaussian Distribution\n",
    "\n",
    "### 2.3.1 - Conditional Gaussian distributions\n",
    "### 2.3.2 - Marginal Gaussian distributions\n",
    "### 2.3.3 - Bayes' theorem for Gaussian variables\n",
    "### 2.3.4 - Maximum likelihood for the Gaussian\n",
    "### 2.3.5 - Sequential estimation\n",
    "### 2.3.6 - Bayesian inference for the Gaussian\n",
    "### 2.3.7 - Student's t-distribution\n",
    "### 2.3.8 - Periodic variables\n",
    "### 2.3.9 - Mixtures of Gaussians\n",
    "\n",
    "## 2.4 - The Exponential Family\n",
    "\n",
    "### 2.4.1 - Maximum likelihood and sufficient statistics\n",
    "### 2.4.2 - Conjugate priors\n",
    "### 2.4.3 - Noninformative priors\n",
    "\n",
    "## 2.5 - Nonparametric Methods\n",
    "\n",
    "### 2.5.1 - Kernel density estimators\n",
    "### 2.5.2 - Nearest-neighbour methods"
   ]
  },
  {
   "cell_type": "code",
   "execution_count": 1,
   "metadata": {
    "collapsed": true
   },
   "outputs": [],
   "source": [
    "# TODO: Explanations and code examples"
   ]
  }
 ],
 "metadata": {
  "kernelspec": {
   "display_name": "py35",
   "language": "python",
   "name": "py35"
  },
  "language_info": {
   "codemirror_mode": {
    "name": "ipython",
    "version": 3
   },
   "file_extension": ".py",
   "mimetype": "text/x-python",
   "name": "python",
   "nbconvert_exporter": "python",
   "pygments_lexer": "ipython3",
   "version": "3.5.4"
  }
 },
 "nbformat": 4,
 "nbformat_minor": 2
}
