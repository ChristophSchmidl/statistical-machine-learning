{
 "cells": [
  {
   "cell_type": "markdown",
   "metadata": {},
   "source": [
    "# Chapter 1 - Introduction\n",
    "\n",
    "\n",
    "## 1.1 - Example: Polynomial Curve Fitting\n",
    "\n",
    "## 1.2 - Probability Theory\n",
    "\n",
    "### 1.2.1 - Probability densities\n",
    "### 1.2.2 - Expectations and covariances\n",
    "### 1.2.3 - Bayesian probabilities\n",
    "### 1.2.4 - The Gaussian distribution\n",
    "### 1.2.5 - Curve fitting re-visited\n",
    "### 1.2.6 - Bayesian curve fitting\n",
    "\n",
    "## 1.3 - Model Selection\n",
    "## 1.4 - The Curse of Dimensionality\n",
    "## 1.5 - Decision Theory\n",
    "\n",
    "### 1.5.1 - Minimizing the misclassification rate\n",
    "### 1.5.2 - Minimizing the expected loss\n",
    "### 1.5.3 - The reject option\n",
    "### 1.5.4 - Inference and decision\n",
    "### 1.5.5 - Loss functions for regression\n",
    "\n",
    "## 1.6 - Information Theory\n",
    "\n",
    "### 1.6.1 - Relative entropy an mutual information"
   ]
  },
  {
   "cell_type": "code",
   "execution_count": 1,
   "metadata": {
    "collapsed": true
   },
   "outputs": [],
   "source": [
    "# TODO: Explanations and code examples"
   ]
  }
 ],
 "metadata": {
  "kernelspec": {
   "display_name": "py35",
   "language": "python",
   "name": "py35"
  },
  "language_info": {
   "codemirror_mode": {
    "name": "ipython",
    "version": 3
   },
   "file_extension": ".py",
   "mimetype": "text/x-python",
   "name": "python",
   "nbconvert_exporter": "python",
   "pygments_lexer": "ipython3",
   "version": "3.5.4"
  }
 },
 "nbformat": 4,
 "nbformat_minor": 2
}
